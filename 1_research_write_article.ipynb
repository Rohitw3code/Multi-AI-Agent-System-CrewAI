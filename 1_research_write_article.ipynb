{
 "cells": [
  {
   "cell_type": "markdown",
   "metadata": {},
   "source": [
    "You can download the `requirements.txt` for this course from the workspace of this lab. `File --> Open...`"
   ]
  },
  {
   "cell_type": "markdown",
   "metadata": {},
   "source": [
    "# L2: Create Agents to Research and Write an Article\n",
    "\n",
    "In this lesson, you will be introduced to the foundational concepts of multi-agent systems and get an overview of the crewAI framework."
   ]
  },
  {
   "cell_type": "markdown",
   "metadata": {},
   "source": [
    "The libraries are already installed in the classroom. If you're running this notebook on your own machine, you can install the following:\n",
    "```Python\n",
    "!pip install crewai==0.28.8 crewai_tools==0.1.6 langchain_community==0.0.29\n",
    "```"
   ]
  },
  {
   "cell_type": "code",
   "execution_count": 1,
   "metadata": {
    "height": 64
   },
   "outputs": [],
   "source": [
    "# Warning control\n",
    "import warnings\n",
    "warnings.filterwarnings('ignore')"
   ]
  },
  {
   "cell_type": "markdown",
   "metadata": {},
   "source": [
    "- Import from the crewAI libray."
   ]
  },
  {
   "cell_type": "code",
   "execution_count": 2,
   "metadata": {
    "height": 30
   },
   "outputs": [],
   "source": [
    "from crewai import Agent, Task, Crew"
   ]
  },
  {
   "cell_type": "markdown",
   "metadata": {},
   "source": [
    "- As a LLM for your agents, you'll be using OpenAI's `gpt-3.5-turbo`.\n",
    "\n",
    "**Optional Note:** crewAI also allow other popular models to be used as a LLM for your Agents. You can see some of the examples at the [bottom of the notebook](#1)."
   ]
  },
  {
   "cell_type": "code",
   "execution_count": 3,
   "metadata": {
    "height": 98
   },
   "outputs": [],
   "source": [
    "import os\n",
    "from utils import get_openai_api_key\n",
    "\n",
    "openai_api_key = get_openai_api_key()\n",
    "os.environ[\"OPENAI_MODEL_NAME\"] = 'gpt-3.5-turbo'"
   ]
  },
  {
   "cell_type": "markdown",
   "metadata": {},
   "source": [
    "## Creating Agents\n",
    "\n",
    "- Define your Agents, and provide them a `role`, `goal` and `backstory`.\n",
    "- It has been seen that LLMs perform better when they are role playing."
   ]
  },
  {
   "cell_type": "markdown",
   "metadata": {},
   "source": [
    "### Agent: Planner\n",
    "\n",
    "**Note**: The benefit of using _multiple strings_ :\n",
    "```Python\n",
    "varname = \"line 1 of text\"\n",
    "          \"line 2 of text\"\n",
    "```\n",
    "\n",
    "versus the _triple quote docstring_:\n",
    "```Python\n",
    "varname = \"\"\"line 1 of text\n",
    "             line 2 of text\n",
    "          \"\"\"\n",
    "```\n",
    "is that it can avoid adding those whitespaces and newline characters, making it better formatted to be passed to the LLM."
   ]
  },
  {
   "cell_type": "code",
   "execution_count": 4,
   "metadata": {
    "height": 251
   },
   "outputs": [],
   "source": [
    "planner = Agent(\n",
    "    role=\"Content Planner\",\n",
    "    goal=\"Plan engaging and factually accurate content on {topic}\",\n",
    "    backstory=\"You're working on planning a blog article \"\n",
    "              \"about the topic: {topic}.\"\n",
    "              \"You collect information that helps the \"\n",
    "              \"audience learn something \"\n",
    "              \"and make informed decisions. \"\n",
    "              \"Your work is the basis for \"\n",
    "              \"the Content Writer to write an article on this topic.\",\n",
    "    allow_delegation=False,\n",
    "\tverbose=True\n",
    ")"
   ]
  },
  {
   "cell_type": "markdown",
   "metadata": {},
   "source": [
    "### Agent: Writer"
   ]
  },
  {
   "cell_type": "code",
   "execution_count": 5,
   "metadata": {
    "height": 370
   },
   "outputs": [],
   "source": [
    "writer = Agent(\n",
    "    role=\"Content Writer\",\n",
    "    goal=\"Write insightful and factually accurate \"\n",
    "         \"opinion piece about the topic: {topic}\",\n",
    "    backstory=\"You're working on a writing \"\n",
    "              \"a new opinion piece about the topic: {topic}. \"\n",
    "              \"You base your writing on the work of \"\n",
    "              \"the Content Planner, who provides an outline \"\n",
    "              \"and relevant context about the topic. \"\n",
    "              \"You follow the main objectives and \"\n",
    "              \"direction of the outline, \"\n",
    "              \"as provide by the Content Planner. \"\n",
    "              \"You also provide objective and impartial insights \"\n",
    "              \"and back them up with information \"\n",
    "              \"provide by the Content Planner. \"\n",
    "              \"You acknowledge in your opinion piece \"\n",
    "              \"when your statements are opinions \"\n",
    "              \"as opposed to objective statements.\",\n",
    "    allow_delegation=False,\n",
    "    verbose=True\n",
    ")"
   ]
  },
  {
   "cell_type": "markdown",
   "metadata": {},
   "source": [
    "### Agent: Editor"
   ]
  },
  {
   "cell_type": "code",
   "execution_count": 6,
   "metadata": {
    "height": 285
   },
   "outputs": [],
   "source": [
    "editor = Agent(\n",
    "    role=\"Editor\",\n",
    "    goal=\"Edit a given blog post to align with \"\n",
    "         \"the writing style of the organization. \",\n",
    "    backstory=\"You are an editor who receives a blog post \"\n",
    "              \"from the Content Writer. \"\n",
    "              \"Your goal is to review the blog post \"\n",
    "              \"to ensure that it follows journalistic best practices,\"\n",
    "              \"provides balanced viewpoints \"\n",
    "              \"when providing opinions or assertions, \"\n",
    "              \"and also avoids major controversial topics \"\n",
    "              \"or opinions when possible.\",\n",
    "    allow_delegation=False,\n",
    "    verbose=True\n",
    ")"
   ]
  },
  {
   "cell_type": "markdown",
   "metadata": {},
   "source": [
    "## Creating Tasks\n",
    "\n",
    "- Define your Tasks, and provide them a `description`, `expected_output` and `agent`."
   ]
  },
  {
   "cell_type": "markdown",
   "metadata": {},
   "source": [
    "### Task: Plan"
   ]
  },
  {
   "cell_type": "code",
   "execution_count": 7,
   "metadata": {
    "height": 268
   },
   "outputs": [],
   "source": [
    "plan = Task(\n",
    "    description=(\n",
    "        \"1. Prioritize the latest trends, key players, \"\n",
    "            \"and noteworthy news on {topic}.\\n\"\n",
    "        \"2. Identify the target audience, considering \"\n",
    "            \"their interests and pain points.\\n\"\n",
    "        \"3. Develop a detailed content outline including \"\n",
    "            \"an introduction, key points, and a call to action.\\n\"\n",
    "        \"4. Include SEO keywords and relevant data or sources.\"\n",
    "    ),\n",
    "    expected_output=\"A comprehensive content plan document \"\n",
    "        \"with an outline, audience analysis, \"\n",
    "        \"SEO keywords, and resources.\",\n",
    "    agent=planner,\n",
    ")"
   ]
  },
  {
   "cell_type": "markdown",
   "metadata": {},
   "source": [
    "### Task: Write"
   ]
  },
  {
   "cell_type": "code",
   "execution_count": 8,
   "metadata": {
    "height": 319
   },
   "outputs": [],
   "source": [
    "write = Task(\n",
    "    description=(\n",
    "        \"1. Use the content plan to craft a compelling \"\n",
    "            \"blog post on {topic}.\\n\"\n",
    "        \"2. Incorporate SEO keywords naturally.\\n\"\n",
    "\t\t\"3. Sections/Subtitles are properly named \"\n",
    "            \"in an engaging manner.\\n\"\n",
    "        \"4. Ensure the post is structured with an \"\n",
    "            \"engaging introduction, insightful body, \"\n",
    "            \"and a summarizing conclusion.\\n\"\n",
    "        \"5. Proofread for grammatical errors and \"\n",
    "            \"alignment with the brand's voice.\\n\"\n",
    "    ),\n",
    "    expected_output=\"A well-written blog post \"\n",
    "        \"in markdown format, ready for publication, \"\n",
    "        \"each section should have 2 or 3 paragraphs.\",\n",
    "    agent=writer,\n",
    ")"
   ]
  },
  {
   "cell_type": "markdown",
   "metadata": {},
   "source": [
    "### Task: Edit"
   ]
  },
  {
   "cell_type": "code",
   "execution_count": 9,
   "metadata": {
    "height": 166
   },
   "outputs": [],
   "source": [
    "edit = Task(\n",
    "    description=(\"Proofread the given blog post for \"\n",
    "                 \"grammatical errors and \"\n",
    "                 \"alignment with the brand's voice.\"),\n",
    "    expected_output=\"A well-written blog post in markdown format, \"\n",
    "                    \"ready for publication, \"\n",
    "                    \"each section should have 2 or 3 paragraphs.\",\n",
    "    agent=editor\n",
    ")"
   ]
  },
  {
   "cell_type": "markdown",
   "metadata": {},
   "source": [
    "## Creating the Crew\n",
    "\n",
    "- Create your crew of Agents\n",
    "- Pass the tasks to be performed by those agents.\n",
    "    - **Note**: *For this simple example*, the tasks will be performed sequentially (i.e they are dependent on each other), so the _order_ of the task in the list _matters_.\n",
    "- `verbose=2` allows you to see all the logs of the execution. "
   ]
  },
  {
   "cell_type": "code",
   "execution_count": 10,
   "metadata": {
    "height": 98
   },
   "outputs": [],
   "source": [
    "crew = Crew(\n",
    "    agents=[planner, writer, editor],\n",
    "    tasks=[plan, write, edit],\n",
    "    verbose=2\n",
    ")"
   ]
  },
  {
   "cell_type": "markdown",
   "metadata": {},
   "source": [
    "## Running the Crew"
   ]
  },
  {
   "cell_type": "markdown",
   "metadata": {},
   "source": [
    "**Note**: LLMs can provide different outputs for they same input, so what you get might be different than what you see in the video."
   ]
  },
  {
   "cell_type": "code",
   "execution_count": 12,
   "metadata": {
    "height": 30
   },
   "outputs": [
    {
     "name": "stdout",
     "output_type": "stream",
     "text": [
      "\u001b[1m\u001b[95m [DEBUG]: == Working Agent: Content Planner\u001b[00m\n",
      "\u001b[1m\u001b[95m [INFO]: == Starting Task: 1. Prioritize the latest trends, key players, and noteworthy news on Data Science.\n",
      "2. Identify the target audience, considering their interests and pain points.\n",
      "3. Develop a detailed content outline including an introduction, key points, and a call to action.\n",
      "4. Include SEO keywords and relevant data or sources.\u001b[00m\n",
      "\n",
      "\n",
      "\u001b[1m> Entering new CrewAgentExecutor chain...\u001b[0m\n",
      "\u001b[32;1m\u001b[1;3mI now can give a great answer\n",
      "\n",
      "Final Answer: \n",
      "\n",
      "Title: Unveiling the Latest Trends and Key Players in Data Science\n",
      "\n",
      "Outline:\n",
      "I. Introduction\n",
      "- Brief overview of the importance of data science in today's digital age\n",
      "- Mention of the rapid advancements and innovations in the field\n",
      "\n",
      "II. Latest Trends in Data Science\n",
      "A. Artificial Intelligence and Machine Learning\n",
      "- Explanation of how AI and ML are shaping the future of data science\n",
      "- Examples of real-world applications and success stories\n",
      "\n",
      "B. Big Data Analytics\n",
      "- Discussion on the challenges and opportunities of handling large volumes of data\n",
      "- Overview of tools and technologies used for big data analytics\n",
      "\n",
      "C. Data Privacy and Ethics\n",
      "- Exploration of the growing concerns around data privacy and ethical considerations in data science\n",
      "- Case studies highlighting the importance of ethical data practices\n",
      "\n",
      "III. Key Players in Data Science\n",
      "A. Companies Leading the Way\n",
      "- Profiles of top tech companies investing heavily in data science\n",
      "- Overview of their contributions to the field and impact on industry trends\n",
      "\n",
      "B. Influential Data Scientists\n",
      "- Spotlight on renowned data scientists and their groundbreaking work\n",
      "- Discuss their contributions to shaping the future of data science\n",
      "\n",
      "IV. Noteworthy News in Data Science\n",
      "A. Recent Developments\n",
      "- Recap of recent news and developments in the data science industry\n",
      "- Analysis of how these events are shaping the future of data science\n",
      "\n",
      "V. Target Audience Analysis\n",
      "- Identification of target audience as professionals in the tech industry, data enthusiasts, and students pursuing careers in data science\n",
      "- Consideration of their interests in staying updated on trends, key players, and news in the field\n",
      "- Addressing pain points such as keeping up with the fast-paced changes in data science and understanding the competitive landscape\n",
      "\n",
      "VI. SEO Keywords\n",
      "- Data Science Trends 2021\n",
      "- Top Data Science Companies\n",
      "- Ethical Data Practices\n",
      "- Big Data Analytics Tools\n",
      "- AI and ML Innovations\n",
      "\n",
      "VII. Resources\n",
      "- Data Science websites and publications for latest news and updates\n",
      "- Research studies and whitepapers on emerging trends in data science\n",
      "- Interviews and podcasts featuring key players in the data science industry\n",
      "\n",
      "Call to Action:\n",
      "Stay ahead of the curve in the world of data science by subscribing to our newsletter for regular updates on the latest trends, key players, and news in the industry.\n",
      "\n",
      "[End of Content Plan Document]\u001b[0m\n",
      "\n",
      "\u001b[1m> Finished chain.\u001b[0m\n",
      "\u001b[1m\u001b[92m [DEBUG]: == [Content Planner] Task output: Title: Unveiling the Latest Trends and Key Players in Data Science\n",
      "\n",
      "Outline:\n",
      "I. Introduction\n",
      "- Brief overview of the importance of data science in today's digital age\n",
      "- Mention of the rapid advancements and innovations in the field\n",
      "\n",
      "II. Latest Trends in Data Science\n",
      "A. Artificial Intelligence and Machine Learning\n",
      "- Explanation of how AI and ML are shaping the future of data science\n",
      "- Examples of real-world applications and success stories\n",
      "\n",
      "B. Big Data Analytics\n",
      "- Discussion on the challenges and opportunities of handling large volumes of data\n",
      "- Overview of tools and technologies used for big data analytics\n",
      "\n",
      "C. Data Privacy and Ethics\n",
      "- Exploration of the growing concerns around data privacy and ethical considerations in data science\n",
      "- Case studies highlighting the importance of ethical data practices\n",
      "\n",
      "III. Key Players in Data Science\n",
      "A. Companies Leading the Way\n",
      "- Profiles of top tech companies investing heavily in data science\n",
      "- Overview of their contributions to the field and impact on industry trends\n",
      "\n",
      "B. Influential Data Scientists\n",
      "- Spotlight on renowned data scientists and their groundbreaking work\n",
      "- Discuss their contributions to shaping the future of data science\n",
      "\n",
      "IV. Noteworthy News in Data Science\n",
      "A. Recent Developments\n",
      "- Recap of recent news and developments in the data science industry\n",
      "- Analysis of how these events are shaping the future of data science\n",
      "\n",
      "V. Target Audience Analysis\n",
      "- Identification of target audience as professionals in the tech industry, data enthusiasts, and students pursuing careers in data science\n",
      "- Consideration of their interests in staying updated on trends, key players, and news in the field\n",
      "- Addressing pain points such as keeping up with the fast-paced changes in data science and understanding the competitive landscape\n",
      "\n",
      "VI. SEO Keywords\n",
      "- Data Science Trends 2021\n",
      "- Top Data Science Companies\n",
      "- Ethical Data Practices\n",
      "- Big Data Analytics Tools\n",
      "- AI and ML Innovations\n",
      "\n",
      "VII. Resources\n",
      "- Data Science websites and publications for latest news and updates\n",
      "- Research studies and whitepapers on emerging trends in data science\n",
      "- Interviews and podcasts featuring key players in the data science industry\n",
      "\n",
      "Call to Action:\n",
      "Stay ahead of the curve in the world of data science by subscribing to our newsletter for regular updates on the latest trends, key players, and news in the industry.\n",
      "\n",
      "[End of Content Plan Document]\n",
      "\n",
      "\u001b[00m\n",
      "\u001b[1m\u001b[95m [DEBUG]: == Working Agent: Content Writer\u001b[00m\n",
      "\u001b[1m\u001b[95m [INFO]: == Starting Task: 1. Use the content plan to craft a compelling blog post on Data Science.\n",
      "2. Incorporate SEO keywords naturally.\n",
      "3. Sections/Subtitles are properly named in an engaging manner.\n",
      "4. Ensure the post is structured with an engaging introduction, insightful body, and a summarizing conclusion.\n",
      "5. Proofread for grammatical errors and alignment with the brand's voice.\n",
      "\u001b[00m\n",
      "\n",
      "\n",
      "\u001b[1m> Entering new CrewAgentExecutor chain...\u001b[0m\n",
      "\u001b[32;1m\u001b[1;3mI now can give a great answer\n",
      "\n",
      "Final Answer:\n",
      "# Unveiling the Latest Trends and Key Players in Data Science\n",
      "\n",
      "In today's digital age, data science plays a crucial role in driving innovation and decision-making across various industries. With the rapid advancements in technology, the field of data science continues to evolve, paving the way for new trends and key players to emerge.\n",
      "\n",
      "## Latest Trends in Data Science\n",
      "\n",
      "### Artificial Intelligence and Machine Learning\n",
      "Artificial Intelligence (AI) and Machine Learning (ML) have revolutionized the way data is analyzed and utilized. From predictive analytics to natural language processing, AI and ML algorithms are reshaping the future of data science. Real-world applications such as personalized recommendations in e-commerce and fraud detection in finance showcase the power of AI and ML in transforming data into actionable insights.\n",
      "\n",
      "### Big Data Analytics\n",
      "Handling large volumes of data has become a common challenge for organizations, giving rise to the need for sophisticated big data analytics tools and technologies. From Apache Hadoop to Spark, these tools enable businesses to extract valuable information from massive datasets. Despite the challenges, big data analytics presents opportunities for organizations to gain a competitive edge through data-driven decision-making.\n",
      "\n",
      "### Data Privacy and Ethics\n",
      "As data collection becomes more pervasive, concerns around data privacy and ethical considerations in data science have come to the forefront. Companies are now facing increased scrutiny over their data practices, leading to a greater emphasis on ethical data handling. Case studies highlighting the repercussions of unethical data practices serve as a reminder of the importance of maintaining data privacy and ethical standards in the field of data science.\n",
      "\n",
      "## Key Players in Data Science\n",
      "\n",
      "### Companies Leading the Way\n",
      "Top tech companies such as Google, Amazon, and Microsoft are at the forefront of investing in data science to drive innovation and gain a competitive advantage. Their contributions to the field, from developing cutting-edge algorithms to leveraging cloud computing for data analysis, have reshaped industry trends and set new standards for data-driven decision-making.\n",
      "\n",
      "### Influential Data Scientists\n",
      "Renowned data scientists like Fei-Fei Li, Geoffrey Hinton, and Yann LeCun have made significant contributions to the field of data science through their groundbreaking research and innovations. Their work in areas such as computer vision, deep learning, and neural networks has played a pivotal role in shaping the future of data science and inspiring the next generation of data enthusiasts.\n",
      "\n",
      "## Noteworthy News in Data Science\n",
      "\n",
      "### Recent Developments\n",
      "Recent news and developments in the data science industry continue to drive innovation and shape the future of the field. From advancements in AI and ML to breakthroughs in big data analytics, these events underscore the dynamic nature of data science and highlight the importance of staying updated on emerging trends and key developments.\n",
      "\n",
      "## Target Audience Analysis\n",
      "\n",
      "Professionals in the tech industry, data enthusiasts, and students pursuing careers in data science form the core audience for staying updated on trends, key players, and news in the field. Understanding their interests and pain points, such as keeping pace with rapid changes in data science and navigating the competitive landscape, is essential for delivering valuable insights and resources to support their professional growth.\n",
      "\n",
      "## SEO Keywords\n",
      "\n",
      "- Data Science Trends 2021\n",
      "- Top Data Science Companies\n",
      "- Ethical Data Practices\n",
      "- Big Data Analytics Tools\n",
      "- AI and ML Innovations\n",
      "\n",
      "## Resources\n",
      "\n",
      "For the latest news and updates in data science, consider exploring reputable websites and publications dedicated to the field. Research studies and whitepapers on emerging trends in data science provide valuable insights for professionals looking to stay ahead of the curve. Additionally, interviews and podcasts featuring key players in the data science industry offer a firsthand look at the latest innovations and developments shaping the future of the field.\n",
      "\n",
      "**Call to Action:**\n",
      "Stay ahead of the curve in the world of data science by subscribing to our newsletter for regular updates on the latest trends, key players, and news in the industry.\u001b[0m\n",
      "\n",
      "\u001b[1m> Finished chain.\u001b[0m\n",
      "\u001b[1m\u001b[92m [DEBUG]: == [Content Writer] Task output: # Unveiling the Latest Trends and Key Players in Data Science\n",
      "\n",
      "In today's digital age, data science plays a crucial role in driving innovation and decision-making across various industries. With the rapid advancements in technology, the field of data science continues to evolve, paving the way for new trends and key players to emerge.\n",
      "\n",
      "## Latest Trends in Data Science\n",
      "\n",
      "### Artificial Intelligence and Machine Learning\n",
      "Artificial Intelligence (AI) and Machine Learning (ML) have revolutionized the way data is analyzed and utilized. From predictive analytics to natural language processing, AI and ML algorithms are reshaping the future of data science. Real-world applications such as personalized recommendations in e-commerce and fraud detection in finance showcase the power of AI and ML in transforming data into actionable insights.\n",
      "\n",
      "### Big Data Analytics\n",
      "Handling large volumes of data has become a common challenge for organizations, giving rise to the need for sophisticated big data analytics tools and technologies. From Apache Hadoop to Spark, these tools enable businesses to extract valuable information from massive datasets. Despite the challenges, big data analytics presents opportunities for organizations to gain a competitive edge through data-driven decision-making.\n",
      "\n",
      "### Data Privacy and Ethics\n",
      "As data collection becomes more pervasive, concerns around data privacy and ethical considerations in data science have come to the forefront. Companies are now facing increased scrutiny over their data practices, leading to a greater emphasis on ethical data handling. Case studies highlighting the repercussions of unethical data practices serve as a reminder of the importance of maintaining data privacy and ethical standards in the field of data science.\n",
      "\n",
      "## Key Players in Data Science\n",
      "\n",
      "### Companies Leading the Way\n",
      "Top tech companies such as Google, Amazon, and Microsoft are at the forefront of investing in data science to drive innovation and gain a competitive advantage. Their contributions to the field, from developing cutting-edge algorithms to leveraging cloud computing for data analysis, have reshaped industry trends and set new standards for data-driven decision-making.\n",
      "\n",
      "### Influential Data Scientists\n",
      "Renowned data scientists like Fei-Fei Li, Geoffrey Hinton, and Yann LeCun have made significant contributions to the field of data science through their groundbreaking research and innovations. Their work in areas such as computer vision, deep learning, and neural networks has played a pivotal role in shaping the future of data science and inspiring the next generation of data enthusiasts.\n",
      "\n",
      "## Noteworthy News in Data Science\n",
      "\n",
      "### Recent Developments\n",
      "Recent news and developments in the data science industry continue to drive innovation and shape the future of the field. From advancements in AI and ML to breakthroughs in big data analytics, these events underscore the dynamic nature of data science and highlight the importance of staying updated on emerging trends and key developments.\n",
      "\n",
      "## Target Audience Analysis\n",
      "\n",
      "Professionals in the tech industry, data enthusiasts, and students pursuing careers in data science form the core audience for staying updated on trends, key players, and news in the field. Understanding their interests and pain points, such as keeping pace with rapid changes in data science and navigating the competitive landscape, is essential for delivering valuable insights and resources to support their professional growth.\n",
      "\n",
      "## SEO Keywords\n",
      "\n",
      "- Data Science Trends 2021\n",
      "- Top Data Science Companies\n",
      "- Ethical Data Practices\n",
      "- Big Data Analytics Tools\n",
      "- AI and ML Innovations\n",
      "\n",
      "## Resources\n",
      "\n",
      "For the latest news and updates in data science, consider exploring reputable websites and publications dedicated to the field. Research studies and whitepapers on emerging trends in data science provide valuable insights for professionals looking to stay ahead of the curve. Additionally, interviews and podcasts featuring key players in the data science industry offer a firsthand look at the latest innovations and developments shaping the future of the field.\n",
      "\n",
      "**Call to Action:**\n",
      "Stay ahead of the curve in the world of data science by subscribing to our newsletter for regular updates on the latest trends, key players, and news in the industry.\n",
      "\n",
      "\u001b[00m\n",
      "\u001b[1m\u001b[95m [DEBUG]: == Working Agent: Editor\u001b[00m\n",
      "\u001b[1m\u001b[95m [INFO]: == Starting Task: Proofread the given blog post for grammatical errors and alignment with the brand's voice.\u001b[00m\n",
      "\n",
      "\n",
      "\u001b[1m> Entering new CrewAgentExecutor chain...\u001b[0m\n"
     ]
    },
    {
     "name": "stdout",
     "output_type": "stream",
     "text": [
      "\u001b[32;1m\u001b[1;3mI now can give a great answer\n",
      "\n",
      "Final Answer:\n",
      "# Unveiling the Latest Trends and Key Players in Data Science\n",
      "\n",
      "In today's digital age, data science plays a crucial role in driving innovation and decision-making across various industries. With the rapid advancements in technology, the field of data science continues to evolve, paving the way for new trends and key players to emerge.\n",
      "\n",
      "## Latest Trends in Data Science\n",
      "\n",
      "### Artificial Intelligence and Machine Learning\n",
      "Artificial Intelligence (AI) and Machine Learning (ML) have revolutionized the way data is analyzed and utilized. From predictive analytics to natural language processing, AI and ML algorithms are reshaping the future of data science. Real-world applications such as personalized recommendations in e-commerce and fraud detection in finance showcase the power of AI and ML in transforming data into actionable insights.\n",
      "\n",
      "### Big Data Analytics\n",
      "Handling large volumes of data has become a common challenge for organizations, giving rise to the need for sophisticated big data analytics tools and technologies. From Apache Hadoop to Spark, these tools enable businesses to extract valuable information from massive datasets. Despite the challenges, big data analytics presents opportunities for organizations to gain a competitive edge through data-driven decision-making.\n",
      "\n",
      "### Data Privacy and Ethics\n",
      "As data collection becomes more pervasive, concerns around data privacy and ethical considerations in data science have come to the forefront. Companies are now facing increased scrutiny over their data practices, leading to a greater emphasis on ethical data handling. Case studies highlighting the repercussions of unethical data practices serve as a reminder of the importance of maintaining data privacy and ethical standards in the field of data science.\n",
      "\n",
      "## Key Players in Data Science\n",
      "\n",
      "### Companies Leading the Way\n",
      "Top tech companies such as Google, Amazon, and Microsoft are at the forefront of investing in data science to drive innovation and gain a competitive advantage. Their contributions to the field, from developing cutting-edge algorithms to leveraging cloud computing for data analysis, have reshaped industry trends and set new standards for data-driven decision-making.\n",
      "\n",
      "### Influential Data Scientists\n",
      "Renowned data scientists like Fei-Fei Li, Geoffrey Hinton, and Yann LeCun have made significant contributions to the field of data science through their groundbreaking research and innovations. Their work in areas such as computer vision, deep learning, and neural networks has played a pivotal role in shaping the future of data science and inspiring the next generation of data enthusiasts.\n",
      "\n",
      "## Noteworthy News in Data Science\n",
      "\n",
      "### Recent Developments\n",
      "Recent news and developments in the data science industry continue to drive innovation and shape the future of the field. From advancements in AI and ML to breakthroughs in big data analytics, these events underscore the dynamic nature of data science and highlight the importance of staying updated on emerging trends and key developments.\n",
      "\n",
      "## Target Audience Analysis\n",
      "\n",
      "Professionals in the tech industry, data enthusiasts, and students pursuing careers in data science form the core audience for staying updated on trends, key players, and news in the field. Understanding their interests and pain points, such as keeping pace with rapid changes in data science and navigating the competitive landscape, is essential for delivering valuable insights and resources to support their professional growth.\n",
      "\n",
      "## SEO Keywords\n",
      "\n",
      "- Data Science Trends 2021\n",
      "- Top Data Science Companies\n",
      "- Ethical Data Practices\n",
      "- Big Data Analytics Tools\n",
      "- AI and ML Innovations\n",
      "\n",
      "## Resources\n",
      "\n",
      "For the latest news and updates in data science, consider exploring reputable websites and publications dedicated to the field. Research studies and whitepapers on emerging trends in data science provide valuable insights for professionals looking to stay ahead of the curve. Additionally, interviews and podcasts featuring key players in the data science industry offer a firsthand look at the latest innovations and developments shaping the future of the field.\n",
      "\n",
      "**Call to Action:**\n",
      "Stay ahead of the curve in the world of data science by subscribing to our newsletter for regular updates on the latest trends, key players, and news in the industry.\u001b[0m\n",
      "\n",
      "\u001b[1m> Finished chain.\u001b[0m\n",
      "\u001b[1m\u001b[92m [DEBUG]: == [Editor] Task output: # Unveiling the Latest Trends and Key Players in Data Science\n",
      "\n",
      "In today's digital age, data science plays a crucial role in driving innovation and decision-making across various industries. With the rapid advancements in technology, the field of data science continues to evolve, paving the way for new trends and key players to emerge.\n",
      "\n",
      "## Latest Trends in Data Science\n",
      "\n",
      "### Artificial Intelligence and Machine Learning\n",
      "Artificial Intelligence (AI) and Machine Learning (ML) have revolutionized the way data is analyzed and utilized. From predictive analytics to natural language processing, AI and ML algorithms are reshaping the future of data science. Real-world applications such as personalized recommendations in e-commerce and fraud detection in finance showcase the power of AI and ML in transforming data into actionable insights.\n",
      "\n",
      "### Big Data Analytics\n",
      "Handling large volumes of data has become a common challenge for organizations, giving rise to the need for sophisticated big data analytics tools and technologies. From Apache Hadoop to Spark, these tools enable businesses to extract valuable information from massive datasets. Despite the challenges, big data analytics presents opportunities for organizations to gain a competitive edge through data-driven decision-making.\n",
      "\n",
      "### Data Privacy and Ethics\n",
      "As data collection becomes more pervasive, concerns around data privacy and ethical considerations in data science have come to the forefront. Companies are now facing increased scrutiny over their data practices, leading to a greater emphasis on ethical data handling. Case studies highlighting the repercussions of unethical data practices serve as a reminder of the importance of maintaining data privacy and ethical standards in the field of data science.\n",
      "\n",
      "## Key Players in Data Science\n",
      "\n",
      "### Companies Leading the Way\n",
      "Top tech companies such as Google, Amazon, and Microsoft are at the forefront of investing in data science to drive innovation and gain a competitive advantage. Their contributions to the field, from developing cutting-edge algorithms to leveraging cloud computing for data analysis, have reshaped industry trends and set new standards for data-driven decision-making.\n",
      "\n",
      "### Influential Data Scientists\n",
      "Renowned data scientists like Fei-Fei Li, Geoffrey Hinton, and Yann LeCun have made significant contributions to the field of data science through their groundbreaking research and innovations. Their work in areas such as computer vision, deep learning, and neural networks has played a pivotal role in shaping the future of data science and inspiring the next generation of data enthusiasts.\n",
      "\n",
      "## Noteworthy News in Data Science\n",
      "\n",
      "### Recent Developments\n",
      "Recent news and developments in the data science industry continue to drive innovation and shape the future of the field. From advancements in AI and ML to breakthroughs in big data analytics, these events underscore the dynamic nature of data science and highlight the importance of staying updated on emerging trends and key developments.\n",
      "\n",
      "## Target Audience Analysis\n",
      "\n",
      "Professionals in the tech industry, data enthusiasts, and students pursuing careers in data science form the core audience for staying updated on trends, key players, and news in the field. Understanding their interests and pain points, such as keeping pace with rapid changes in data science and navigating the competitive landscape, is essential for delivering valuable insights and resources to support their professional growth.\n",
      "\n",
      "## SEO Keywords\n",
      "\n",
      "- Data Science Trends 2021\n",
      "- Top Data Science Companies\n",
      "- Ethical Data Practices\n",
      "- Big Data Analytics Tools\n",
      "- AI and ML Innovations\n",
      "\n",
      "## Resources\n",
      "\n",
      "For the latest news and updates in data science, consider exploring reputable websites and publications dedicated to the field. Research studies and whitepapers on emerging trends in data science provide valuable insights for professionals looking to stay ahead of the curve. Additionally, interviews and podcasts featuring key players in the data science industry offer a firsthand look at the latest innovations and developments shaping the future of the field.\n",
      "\n",
      "**Call to Action:**\n",
      "Stay ahead of the curve in the world of data science by subscribing to our newsletter for regular updates on the latest trends, key players, and news in the industry.\n",
      "\n",
      "\u001b[00m\n"
     ]
    }
   ],
   "source": [
    "result = crew.kickoff(inputs={\"topic\": \"Data Science\"})"
   ]
  },
  {
   "cell_type": "markdown",
   "metadata": {},
   "source": [
    "- Display the results of your execution as markdown in the notebook."
   ]
  },
  {
   "cell_type": "code",
   "execution_count": 13,
   "metadata": {
    "height": 47
   },
   "outputs": [
    {
     "data": {
      "text/markdown": [
       "# Unveiling the Latest Trends and Key Players in Data Science\n",
       "\n",
       "In today's digital age, data science plays a crucial role in driving innovation and decision-making across various industries. With the rapid advancements in technology, the field of data science continues to evolve, paving the way for new trends and key players to emerge.\n",
       "\n",
       "## Latest Trends in Data Science\n",
       "\n",
       "### Artificial Intelligence and Machine Learning\n",
       "Artificial Intelligence (AI) and Machine Learning (ML) have revolutionized the way data is analyzed and utilized. From predictive analytics to natural language processing, AI and ML algorithms are reshaping the future of data science. Real-world applications such as personalized recommendations in e-commerce and fraud detection in finance showcase the power of AI and ML in transforming data into actionable insights.\n",
       "\n",
       "### Big Data Analytics\n",
       "Handling large volumes of data has become a common challenge for organizations, giving rise to the need for sophisticated big data analytics tools and technologies. From Apache Hadoop to Spark, these tools enable businesses to extract valuable information from massive datasets. Despite the challenges, big data analytics presents opportunities for organizations to gain a competitive edge through data-driven decision-making.\n",
       "\n",
       "### Data Privacy and Ethics\n",
       "As data collection becomes more pervasive, concerns around data privacy and ethical considerations in data science have come to the forefront. Companies are now facing increased scrutiny over their data practices, leading to a greater emphasis on ethical data handling. Case studies highlighting the repercussions of unethical data practices serve as a reminder of the importance of maintaining data privacy and ethical standards in the field of data science.\n",
       "\n",
       "## Key Players in Data Science\n",
       "\n",
       "### Companies Leading the Way\n",
       "Top tech companies such as Google, Amazon, and Microsoft are at the forefront of investing in data science to drive innovation and gain a competitive advantage. Their contributions to the field, from developing cutting-edge algorithms to leveraging cloud computing for data analysis, have reshaped industry trends and set new standards for data-driven decision-making.\n",
       "\n",
       "### Influential Data Scientists\n",
       "Renowned data scientists like Fei-Fei Li, Geoffrey Hinton, and Yann LeCun have made significant contributions to the field of data science through their groundbreaking research and innovations. Their work in areas such as computer vision, deep learning, and neural networks has played a pivotal role in shaping the future of data science and inspiring the next generation of data enthusiasts.\n",
       "\n",
       "## Noteworthy News in Data Science\n",
       "\n",
       "### Recent Developments\n",
       "Recent news and developments in the data science industry continue to drive innovation and shape the future of the field. From advancements in AI and ML to breakthroughs in big data analytics, these events underscore the dynamic nature of data science and highlight the importance of staying updated on emerging trends and key developments.\n",
       "\n",
       "## Target Audience Analysis\n",
       "\n",
       "Professionals in the tech industry, data enthusiasts, and students pursuing careers in data science form the core audience for staying updated on trends, key players, and news in the field. Understanding their interests and pain points, such as keeping pace with rapid changes in data science and navigating the competitive landscape, is essential for delivering valuable insights and resources to support their professional growth.\n",
       "\n",
       "## SEO Keywords\n",
       "\n",
       "- Data Science Trends 2021\n",
       "- Top Data Science Companies\n",
       "- Ethical Data Practices\n",
       "- Big Data Analytics Tools\n",
       "- AI and ML Innovations\n",
       "\n",
       "## Resources\n",
       "\n",
       "For the latest news and updates in data science, consider exploring reputable websites and publications dedicated to the field. Research studies and whitepapers on emerging trends in data science provide valuable insights for professionals looking to stay ahead of the curve. Additionally, interviews and podcasts featuring key players in the data science industry offer a firsthand look at the latest innovations and developments shaping the future of the field.\n",
       "\n",
       "**Call to Action:**\n",
       "Stay ahead of the curve in the world of data science by subscribing to our newsletter for regular updates on the latest trends, key players, and news in the industry."
      ],
      "text/plain": [
       "<IPython.core.display.Markdown object>"
      ]
     },
     "execution_count": 13,
     "metadata": {},
     "output_type": "execute_result"
    }
   ],
   "source": [
    "from IPython.display import Markdown\n",
    "Markdown(result)"
   ]
  },
  {
   "cell_type": "markdown",
   "metadata": {},
   "source": [
    "## Try it Yourself\n",
    "\n",
    "- Pass in a topic of your choice and see what the agents come up with!"
   ]
  },
  {
   "cell_type": "code",
   "execution_count": null,
   "metadata": {
    "height": 47
   },
   "outputs": [],
   "source": [
    "topic = \"YOUR TOPIC HERE\"\n",
    "result = crew.kickoff(inputs={\"topic\": topic})"
   ]
  },
  {
   "cell_type": "code",
   "execution_count": null,
   "metadata": {
    "height": 30
   },
   "outputs": [],
   "source": [
    "Markdown(result)"
   ]
  },
  {
   "cell_type": "markdown",
   "metadata": {},
   "source": [
    "<a name='1'></a>\n",
    " ## Other Popular Models as LLM for your Agents"
   ]
  },
  {
   "cell_type": "markdown",
   "metadata": {},
   "source": [
    "#### Hugging Face (HuggingFaceHub endpoint)\n",
    "\n",
    "```Python\n",
    "from langchain_community.llms import HuggingFaceHub\n",
    "\n",
    "llm = HuggingFaceHub(\n",
    "    repo_id=\"HuggingFaceH4/zephyr-7b-beta\",\n",
    "    huggingfacehub_api_token=\"<HF_TOKEN_HERE>\",\n",
    "    task=\"text-generation\",\n",
    ")\n",
    "\n",
    "### you will pass \"llm\" to your agent function\n",
    "```"
   ]
  },
  {
   "cell_type": "markdown",
   "metadata": {},
   "source": [
    "#### Mistral API\n",
    "\n",
    "```Python\n",
    "OPENAI_API_KEY=your-mistral-api-key\n",
    "OPENAI_API_BASE=https://api.mistral.ai/v1\n",
    "OPENAI_MODEL_NAME=\"mistral-small\"\n",
    "```"
   ]
  },
  {
   "cell_type": "markdown",
   "metadata": {},
   "source": [
    "#### Cohere\n",
    "\n",
    "```Python\n",
    "from langchain_community.chat_models import ChatCohere\n",
    "# Initialize language model\n",
    "os.environ[\"COHERE_API_KEY\"] = \"your-cohere-api-key\"\n",
    "llm = ChatCohere()\n",
    "\n",
    "### you will pass \"llm\" to your agent function\n",
    "```"
   ]
  },
  {
   "cell_type": "markdown",
   "metadata": {},
   "source": [
    "### For using Llama locally with Ollama and more, checkout the crewAI documentation on [Connecting to any LLM](https://docs.crewai.com/how-to/LLM-Connections/)."
   ]
  },
  {
   "cell_type": "code",
   "execution_count": null,
   "metadata": {
    "height": 30
   },
   "outputs": [],
   "source": []
  },
  {
   "cell_type": "code",
   "execution_count": null,
   "metadata": {
    "height": 30
   },
   "outputs": [],
   "source": []
  },
  {
   "cell_type": "code",
   "execution_count": null,
   "metadata": {
    "height": 30
   },
   "outputs": [],
   "source": []
  }
 ],
 "metadata": {
  "colab": {
   "gpuType": "T4",
   "provenance": []
  },
  "kernelspec": {
   "display_name": "Python 3 (ipykernel)",
   "language": "python",
   "name": "python3"
  },
  "language_info": {
   "codemirror_mode": {
    "name": "ipython",
    "version": 3
   },
   "file_extension": ".py",
   "mimetype": "text/x-python",
   "name": "python",
   "nbconvert_exporter": "python",
   "pygments_lexer": "ipython3",
   "version": "3.11.9"
  }
 },
 "nbformat": 4,
 "nbformat_minor": 4
}
